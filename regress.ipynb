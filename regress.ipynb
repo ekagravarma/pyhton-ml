{
  "nbformat": 4,
  "nbformat_minor": 0,
  "metadata": {
    "colab": {
      "name": "regress.ipynb",
      "provenance": [],
      "authorship_tag": "ABX9TyO65uXxV+vMRv2uCddrO081",
      "include_colab_link": true
    },
    "kernelspec": {
      "name": "python3",
      "display_name": "Python 3"
    },
    "language_info": {
      "name": "python"
    }
  },
  "cells": [
    {
      "cell_type": "markdown",
      "metadata": {
        "id": "view-in-github",
        "colab_type": "text"
      },
      "source": [
        "<a href=\"https://colab.research.google.com/github/ekagravarma/pyhton-ml/blob/main/regress.ipynb\" target=\"_parent\"><img src=\"https://colab.research.google.com/assets/colab-badge.svg\" alt=\"Open In Colab\"/></a>"
      ]
    },
    {
      "cell_type": "code",
      "execution_count": null,
      "metadata": {
        "id": "KLJP8uqEigot"
      },
      "outputs": [],
      "source": [
        "2+3=\n"
      ]
    }
  ]
}