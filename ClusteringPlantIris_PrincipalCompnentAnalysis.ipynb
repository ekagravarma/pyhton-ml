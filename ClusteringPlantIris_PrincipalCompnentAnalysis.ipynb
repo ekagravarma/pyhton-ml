{
  "nbformat": 4,
  "nbformat_minor": 0,
  "metadata": {
    "colab": {
      "name": "ClusteringPlantIris-PrincipalCompnentAnalysis.ipynb",
      "provenance": [],
      "authorship_tag": "ABX9TyO3SFpHx/9GdpVXZ57K9bA/",
      "include_colab_link": true
    },
    "kernelspec": {
      "name": "python3",
      "display_name": "Python 3"
    },
    "language_info": {
      "name": "python"
    }
  },
  "cells": [
    {
      "cell_type": "markdown",
      "metadata": {
        "id": "view-in-github",
        "colab_type": "text"
      },
      "source": [
        "<a href=\"https://colab.research.google.com/github/ekagravarma/pyhton-ml/blob/main/ClusteringPlantIris_PrincipalCompnentAnalysis.ipynb\" target=\"_parent\"><img src=\"https://colab.research.google.com/assets/colab-badge.svg\" alt=\"Open In Colab\"/></a>"
      ]
    },
    {
      "cell_type": "code",
      "execution_count": null,
      "metadata": {
        "id": "Y7stlojp0cXX"
      },
      "outputs": [],
      "source": [
        "import pandas as pd\n
        fitting the PCA clustering o the dataset with n=2

from sklearn.decomposition import PCA \n
model = PCA(n_components=2)#No. of components to keep \n
y_means  = model.fit(X).transform(X) \n

variance percentage

plt.figure()
colors = ['red','green'.'orange']
for color,i,target_names in zip(colors,[0,1,2],names):
    plt.scatter(y_means[y==i,0],y_means[y==i,1],color=color,1w=2,label=target_names)
plt.title('IRIS Clustering')
plt.show()"
      ]
    }
  ]
}
